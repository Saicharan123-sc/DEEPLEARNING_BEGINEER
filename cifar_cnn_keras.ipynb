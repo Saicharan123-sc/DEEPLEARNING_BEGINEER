{
 "cells": [
  {
   "cell_type": "code",
   "execution_count": 36,
   "id": "fd8f202b",
   "metadata": {},
   "outputs": [
    {
     "name": "stdout",
     "output_type": "stream",
     "text": [
      "Hello\n"
     ]
    }
   ],
   "source": [
    "print(\"Hello\")"
   ]
  },
  {
   "cell_type": "code",
   "execution_count": 37,
   "id": "0207588a",
   "metadata": {},
   "outputs": [],
   "source": [
    "## load libraries "
   ]
  },
  {
   "cell_type": "code",
   "execution_count": 38,
   "id": "0aa597bd",
   "metadata": {},
   "outputs": [],
   "source": [
    "from keras.models import Sequential\n",
    "from keras.layers import Dense, Flatten, Conv2D, MaxPooling2D\n",
    "from keras.datasets import cifar10\n",
    "from keras.utils import to_categorical\n",
    "from keras.optimizers import Adam\n",
    "import matplotlib.pyplot as plt"
   ]
  },
  {
   "cell_type": "markdown",
   "id": "2a5d3d06",
   "metadata": {},
   "source": [
    "## LOAD THE DATA"
   ]
  },
  {
   "cell_type": "code",
   "execution_count": 39,
   "id": "5ecf4123",
   "metadata": {},
   "outputs": [],
   "source": [
    "(X_train, y_train), (X_test, y_test) = cifar10.load_data()"
   ]
  },
  {
   "cell_type": "markdown",
   "id": "b3d2e5aa",
   "metadata": {},
   "source": [
    "# PREPROCESSING"
   ]
  },
  {
   "cell_type": "code",
   "execution_count": 40,
   "id": "1b299eba",
   "metadata": {},
   "outputs": [],
   "source": [
    "# print(y_train[0])\n",
    "y_train = to_categorical(y_train)\n",
    "\n",
    "y_test = to_categorical(y_test) \n",
    "# print(y_train[0])"
   ]
  },
  {
   "cell_type": "markdown",
   "id": "9de1f939",
   "metadata": {},
   "source": [
    "## BUILD ARCHITECTURE"
   ]
  },
  {
   "cell_type": "code",
   "execution_count": 41,
   "id": "82d381c7",
   "metadata": {},
   "outputs": [
    {
     "name": "stderr",
     "output_type": "stream",
     "text": [
      "/opt/anaconda3/lib/python3.12/site-packages/keras/src/layers/reshaping/flatten.py:37: UserWarning: Do not pass an `input_shape`/`input_dim` argument to a layer. When using Sequential models, prefer using an `Input(shape)` object as the first layer in the model instead.\n",
      "  super().__init__(**kwargs)\n"
     ]
    }
   ],
   "source": [
    "model = Sequential()\n",
    "model.add(Conv2D(8, (3, 3), activation='relu'))\n",
    "model.add(MaxPooling2D((2, 2)))\n",
    "model.add(Flatten(input_shape=(32,32, 3)))\n",
    "model.add(Dense(units=128, activation='relu'))\n",
    "model.add(Dense(units=10, activation='softmax'))"
   ]
  },
  {
   "cell_type": "markdown",
   "id": "e9a5d0e3",
   "metadata": {},
   "source": [
    "## COMPILE"
   ]
  },
  {
   "cell_type": "code",
   "execution_count": 42,
   "id": "ea75337d",
   "metadata": {},
   "outputs": [],
   "source": [
    "model.compile(optimizer= 'adam', loss = 'categorical_crossentropy', metrics = ['accuracy'])"
   ]
  },
  {
   "cell_type": "markdown",
   "id": "f8276dbf",
   "metadata": {},
   "source": [
    "## Train"
   ]
  },
  {
   "cell_type": "code",
   "execution_count": 44,
   "id": "3af4f248",
   "metadata": {},
   "outputs": [
    {
     "name": "stdout",
     "output_type": "stream",
     "text": [
      "Epoch 1/32\n",
      "\u001b[1m782/782\u001b[0m \u001b[32m━━━━━━━━━━━━━━━━━━━━\u001b[0m\u001b[37m\u001b[0m \u001b[1m3s\u001b[0m 3ms/step - accuracy: 0.2087 - loss: 22.1924 - val_accuracy: 0.3227 - val_loss: 1.9252\n",
      "Epoch 2/32\n",
      "\u001b[1m782/782\u001b[0m \u001b[32m━━━━━━━━━━━━━━━━━━━━\u001b[0m\u001b[37m\u001b[0m \u001b[1m3s\u001b[0m 4ms/step - accuracy: 0.3588 - loss: 1.7926 - val_accuracy: 0.3840 - val_loss: 1.7331\n",
      "Epoch 3/32\n",
      "\u001b[1m782/782\u001b[0m \u001b[32m━━━━━━━━━━━━━━━━━━━━\u001b[0m\u001b[37m\u001b[0m \u001b[1m3s\u001b[0m 4ms/step - accuracy: 0.4370 - loss: 1.5589 - val_accuracy: 0.4298 - val_loss: 1.6200\n",
      "Epoch 4/32\n",
      "\u001b[1m782/782\u001b[0m \u001b[32m━━━━━━━━━━━━━━━━━━━━\u001b[0m\u001b[37m\u001b[0m \u001b[1m3s\u001b[0m 3ms/step - accuracy: 0.4960 - loss: 1.4058 - val_accuracy: 0.4644 - val_loss: 1.5480\n",
      "Epoch 5/32\n",
      "\u001b[1m782/782\u001b[0m \u001b[32m━━━━━━━━━━━━━━━━━━━━\u001b[0m\u001b[37m\u001b[0m \u001b[1m3s\u001b[0m 3ms/step - accuracy: 0.5357 - loss: 1.2967 - val_accuracy: 0.4646 - val_loss: 1.5993\n",
      "Epoch 6/32\n",
      "\u001b[1m782/782\u001b[0m \u001b[32m━━━━━━━━━━━━━━━━━━━━\u001b[0m\u001b[37m\u001b[0m \u001b[1m3s\u001b[0m 3ms/step - accuracy: 0.5701 - loss: 1.2164 - val_accuracy: 0.4569 - val_loss: 1.5959\n",
      "Epoch 7/32\n",
      "\u001b[1m782/782\u001b[0m \u001b[32m━━━━━━━━━━━━━━━━━━━━\u001b[0m\u001b[37m\u001b[0m \u001b[1m3s\u001b[0m 3ms/step - accuracy: 0.5977 - loss: 1.1326 - val_accuracy: 0.4929 - val_loss: 1.5170\n",
      "Epoch 8/32\n",
      "\u001b[1m782/782\u001b[0m \u001b[32m━━━━━━━━━━━━━━━━━━━━\u001b[0m\u001b[37m\u001b[0m \u001b[1m3s\u001b[0m 3ms/step - accuracy: 0.6239 - loss: 1.0609 - val_accuracy: 0.4923 - val_loss: 1.5749\n",
      "Epoch 9/32\n",
      "\u001b[1m782/782\u001b[0m \u001b[32m━━━━━━━━━━━━━━━━━━━━\u001b[0m\u001b[37m\u001b[0m \u001b[1m3s\u001b[0m 3ms/step - accuracy: 0.6439 - loss: 1.0104 - val_accuracy: 0.4836 - val_loss: 1.5998\n",
      "Epoch 10/32\n",
      "\u001b[1m782/782\u001b[0m \u001b[32m━━━━━━━━━━━━━━━━━━━━\u001b[0m\u001b[37m\u001b[0m \u001b[1m3s\u001b[0m 3ms/step - accuracy: 0.6636 - loss: 0.9537 - val_accuracy: 0.4941 - val_loss: 1.6693\n",
      "Epoch 11/32\n",
      "\u001b[1m782/782\u001b[0m \u001b[32m━━━━━━━━━━━━━━━━━━━━\u001b[0m\u001b[37m\u001b[0m \u001b[1m3s\u001b[0m 3ms/step - accuracy: 0.6840 - loss: 0.9017 - val_accuracy: 0.4868 - val_loss: 1.7907\n",
      "Epoch 12/32\n",
      "\u001b[1m782/782\u001b[0m \u001b[32m━━━━━━━━━━━━━━━━━━━━\u001b[0m\u001b[37m\u001b[0m \u001b[1m3s\u001b[0m 3ms/step - accuracy: 0.6960 - loss: 0.8625 - val_accuracy: 0.5006 - val_loss: 1.6978\n",
      "Epoch 13/32\n",
      "\u001b[1m782/782\u001b[0m \u001b[32m━━━━━━━━━━━━━━━━━━━━\u001b[0m\u001b[37m\u001b[0m \u001b[1m3s\u001b[0m 3ms/step - accuracy: 0.7128 - loss: 0.8204 - val_accuracy: 0.4899 - val_loss: 1.8566\n",
      "Epoch 14/32\n",
      "\u001b[1m782/782\u001b[0m \u001b[32m━━━━━━━━━━━━━━━━━━━━\u001b[0m\u001b[37m\u001b[0m \u001b[1m3s\u001b[0m 3ms/step - accuracy: 0.7256 - loss: 0.7840 - val_accuracy: 0.5036 - val_loss: 1.8364\n",
      "Epoch 15/32\n",
      "\u001b[1m782/782\u001b[0m \u001b[32m━━━━━━━━━━━━━━━━━━━━\u001b[0m\u001b[37m\u001b[0m \u001b[1m3s\u001b[0m 3ms/step - accuracy: 0.7388 - loss: 0.7444 - val_accuracy: 0.4951 - val_loss: 2.0295\n",
      "Epoch 16/32\n",
      "\u001b[1m782/782\u001b[0m \u001b[32m━━━━━━━━━━━━━━━━━━━━\u001b[0m\u001b[37m\u001b[0m \u001b[1m3s\u001b[0m 4ms/step - accuracy: 0.7514 - loss: 0.6996 - val_accuracy: 0.4817 - val_loss: 1.9987\n",
      "Epoch 17/32\n",
      "\u001b[1m782/782\u001b[0m \u001b[32m━━━━━━━━━━━━━━━━━━━━\u001b[0m\u001b[37m\u001b[0m \u001b[1m3s\u001b[0m 3ms/step - accuracy: 0.7509 - loss: 0.7048 - val_accuracy: 0.4950 - val_loss: 2.1314\n",
      "Epoch 18/32\n",
      "\u001b[1m782/782\u001b[0m \u001b[32m━━━━━━━━━━━━━━━━━━━━\u001b[0m\u001b[37m\u001b[0m \u001b[1m3s\u001b[0m 3ms/step - accuracy: 0.7725 - loss: 0.6509 - val_accuracy: 0.4933 - val_loss: 2.1447\n",
      "Epoch 19/32\n",
      "\u001b[1m782/782\u001b[0m \u001b[32m━━━━━━━━━━━━━━━━━━━━\u001b[0m\u001b[37m\u001b[0m \u001b[1m3s\u001b[0m 3ms/step - accuracy: 0.7779 - loss: 0.6322 - val_accuracy: 0.4907 - val_loss: 2.1510\n",
      "Epoch 20/32\n",
      "\u001b[1m782/782\u001b[0m \u001b[32m━━━━━━━━━━━━━━━━━━━━\u001b[0m\u001b[37m\u001b[0m \u001b[1m3s\u001b[0m 3ms/step - accuracy: 0.7881 - loss: 0.6101 - val_accuracy: 0.4952 - val_loss: 2.2291\n",
      "Epoch 21/32\n",
      "\u001b[1m782/782\u001b[0m \u001b[32m━━━━━━━━━━━━━━━━━━━━\u001b[0m\u001b[37m\u001b[0m \u001b[1m3s\u001b[0m 3ms/step - accuracy: 0.7973 - loss: 0.5755 - val_accuracy: 0.4907 - val_loss: 2.3695\n",
      "Epoch 22/32\n",
      "\u001b[1m782/782\u001b[0m \u001b[32m━━━━━━━━━━━━━━━━━━━━\u001b[0m\u001b[37m\u001b[0m \u001b[1m3s\u001b[0m 3ms/step - accuracy: 0.7978 - loss: 0.5770 - val_accuracy: 0.4887 - val_loss: 2.4941\n",
      "Epoch 23/32\n",
      "\u001b[1m782/782\u001b[0m \u001b[32m━━━━━━━━━━━━━━━━━━━━\u001b[0m\u001b[37m\u001b[0m \u001b[1m3s\u001b[0m 3ms/step - accuracy: 0.8113 - loss: 0.5361 - val_accuracy: 0.4972 - val_loss: 2.4934\n",
      "Epoch 24/32\n",
      "\u001b[1m782/782\u001b[0m \u001b[32m━━━━━━━━━━━━━━━━━━━━\u001b[0m\u001b[37m\u001b[0m \u001b[1m3s\u001b[0m 4ms/step - accuracy: 0.8133 - loss: 0.5347 - val_accuracy: 0.4881 - val_loss: 2.7312\n",
      "Epoch 25/32\n",
      "\u001b[1m782/782\u001b[0m \u001b[32m━━━━━━━━━━━━━━━━━━━━\u001b[0m\u001b[37m\u001b[0m \u001b[1m3s\u001b[0m 4ms/step - accuracy: 0.8210 - loss: 0.5076 - val_accuracy: 0.4950 - val_loss: 2.7804\n",
      "Epoch 26/32\n",
      "\u001b[1m782/782\u001b[0m \u001b[32m━━━━━━━━━━━━━━━━━━━━\u001b[0m\u001b[37m\u001b[0m \u001b[1m3s\u001b[0m 3ms/step - accuracy: 0.8274 - loss: 0.4898 - val_accuracy: 0.4825 - val_loss: 3.0305\n",
      "Epoch 27/32\n",
      "\u001b[1m782/782\u001b[0m \u001b[32m━━━━━━━━━━━━━━━━━━━━\u001b[0m\u001b[37m\u001b[0m \u001b[1m3s\u001b[0m 3ms/step - accuracy: 0.8258 - loss: 0.4923 - val_accuracy: 0.4885 - val_loss: 2.8512\n",
      "Epoch 28/32\n",
      "\u001b[1m782/782\u001b[0m \u001b[32m━━━━━━━━━━━━━━━━━━━━\u001b[0m\u001b[37m\u001b[0m \u001b[1m3s\u001b[0m 3ms/step - accuracy: 0.8277 - loss: 0.4901 - val_accuracy: 0.4843 - val_loss: 2.7550\n",
      "Epoch 29/32\n",
      "\u001b[1m782/782\u001b[0m \u001b[32m━━━━━━━━━━━━━━━━━━━━\u001b[0m\u001b[37m\u001b[0m \u001b[1m3s\u001b[0m 4ms/step - accuracy: 0.8385 - loss: 0.4596 - val_accuracy: 0.4779 - val_loss: 3.3214\n",
      "Epoch 30/32\n",
      "\u001b[1m782/782\u001b[0m \u001b[32m━━━━━━━━━━━━━━━━━━━━\u001b[0m\u001b[37m\u001b[0m \u001b[1m3s\u001b[0m 4ms/step - accuracy: 0.8456 - loss: 0.4401 - val_accuracy: 0.4866 - val_loss: 3.0391\n",
      "Epoch 31/32\n",
      "\u001b[1m782/782\u001b[0m \u001b[32m━━━━━━━━━━━━━━━━━━━━\u001b[0m\u001b[37m\u001b[0m \u001b[1m3s\u001b[0m 4ms/step - accuracy: 0.8460 - loss: 0.4385 - val_accuracy: 0.4808 - val_loss: 3.2089\n",
      "Epoch 32/32\n",
      "\u001b[1m782/782\u001b[0m \u001b[32m━━━━━━━━━━━━━━━━━━━━\u001b[0m\u001b[37m\u001b[0m \u001b[1m3s\u001b[0m 4ms/step - accuracy: 0.8491 - loss: 0.4391 - val_accuracy: 0.4740 - val_loss: 3.3937\n"
     ]
    }
   ],
   "source": [
    "result = model.fit(X_train, y_train, epochs=32, batch_size=64, validation_data=(X_test, y_test))"
   ]
  },
  {
   "cell_type": "markdown",
   "id": "9f50ba2d",
   "metadata": {},
   "source": [
    "# Evaluate"
   ]
  },
  {
   "cell_type": "code",
   "execution_count": 45,
   "id": "e5e0b094",
   "metadata": {},
   "outputs": [
    {
     "name": "stdout",
     "output_type": "stream",
     "text": [
      "\u001b[1m313/313\u001b[0m \u001b[32m━━━━━━━━━━━━━━━━━━━━\u001b[0m\u001b[37m\u001b[0m \u001b[1m0s\u001b[0m 927us/step - accuracy: 0.4774 - loss: 3.3530\n",
      "Test Loss: 3.3936586380004883, Test Accuracy: 0.4740000069141388\n"
     ]
    }
   ],
   "source": [
    "loss, accuracy = model.evaluate(X_test, y_test)\n",
    "print(f\"Test Loss: {loss}, Test Accuracy: {accuracy}\")"
   ]
  },
  {
   "cell_type": "markdown",
   "id": "121ee756",
   "metadata": {},
   "source": [
    "## VISUALISATION"
   ]
  },
  {
   "cell_type": "code",
   "execution_count": 46,
   "id": "6caf6158",
   "metadata": {},
   "outputs": [
    {
     "data": {
      "image/png": "[encoded data removed]",
      "text/plain": [
       "<Figure size 640x480 with 1 Axes>"
      ]
     },
     "metadata": {},
     "output_type": "display_data"
    }
   ],
   "source": [
    "plt.plot(result.history['accuracy'], label='Training Accuracy', color='blue')\n",
    "plt.plot(result.history['val_accuracy'], label='Test Accuracy', color='orange')\n",
    "plt.legend()\n",
    "plt.title(\"Epoch vs Accuracy on train and testdata\")\n",
    "plt.show()"
   ]
  }
 ],
 "metadata": {
  "kernelspec": {
   "display_name": "base",
   "language": "python",
   "name": "python3"
  },
  "language_info": {
   "codemirror_mode": {
    "name": "ipython",
    "version": 3
   },
   "file_extension": ".py",
   "mimetype": "text/x-python",
   "name": "python",
   "nbconvert_exporter": "python",
   "pygments_lexer": "ipython3",
   "version": "3.12.7"
  }
 },
 "nbformat": 4,
 "nbformat_minor": 5
}
